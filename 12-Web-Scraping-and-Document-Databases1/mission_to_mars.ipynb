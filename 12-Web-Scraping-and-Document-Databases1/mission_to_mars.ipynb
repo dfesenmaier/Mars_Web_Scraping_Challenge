{
 "cells": [
  {
   "cell_type": "code",
   "execution_count": 1,
   "metadata": {},
   "outputs": [],
   "source": [
    "from bs4 import BeautifulSoup\n",
    "from selenium import webdriver\n",
    "import pandas as pd\n",
    "from pprint import pprint\n",
    "import urllib\n",
    "import time\n",
    "import requests"
   ]
  },
  {
   "cell_type": "code",
   "execution_count": 2,
   "metadata": {},
   "outputs": [],
   "source": [
    "NEWS_URL = \"https://mars.nasa.gov/news/\"\n",
    "IMAGE_URL = \"https://www.jpl.nasa.gov/spaceimages/?search=&category=Mars\"\n",
    "WEATHER_URL = \"https://twitter.com/marswxreport?lang=en\"\n",
    "FACTS_URL = \"http://space-facts.com/mars/\"\n",
    "HEMISP_URL = \"https://astrogeology.usgs.gov/search/results?q=hemisphere+enhanced&k1=target&v1=Mars\""
   ]
  },
  {
   "cell_type": "code",
   "execution_count": 3,
   "metadata": {},
   "outputs": [],
   "source": [
    "driver = webdriver.Firefox()\n",
    "driver.get(NEWS_URL)\n",
    "html_news = driver.page_source\n",
    "\n",
    "driver.get(IMAGE_URL)\n",
    "html_image = driver.page_source"
   ]
  },
  {
   "cell_type": "code",
   "execution_count": 4,
   "metadata": {},
   "outputs": [],
   "source": [
    "driver.get(WEATHER_URL)\n",
    "time.sleep(3)\n",
    "html_weather = driver.page_source\n",
    "\n",
    "driver.get(FACTS_URL)\n",
    "html_hemispheres = driver.page_source\n",
    "\n",
    "driver.close()"
   ]
  },
  {
   "cell_type": "markdown",
   "metadata": {},
   "source": [
    "# Scrape the [NASA Mars News Site](https://mars.nasa.gov/news/) and collect the latest News Title and Paragraph Text. \n",
    "\n",
    "Assign the text to variables that you can reference later."
   ]
  },
  {
   "cell_type": "code",
   "execution_count": 5,
   "metadata": {},
   "outputs": [
    {
     "name": "stdout",
     "output_type": "stream",
     "text": [
      "{'Body': 'The pair of briefcase-sized satellites made history when they sailed '\n",
      "         'past Mars in 2019.',\n",
      " 'Date': 'February 27, 2020',\n",
      " 'Title': 'The MarCO Mission Comes to an End'}\n"
     ]
    }
   ],
   "source": [
    "# Grab Mars News\n",
    "soup = BeautifulSoup(html_news, \"html.parser\")\n",
    "news = soup.find(\"div\", class_=\"list_text\")\n",
    "\n",
    "news_dict = {\n",
    "    \n",
    "    \"Date\": news.contents[0].text,\n",
    "    \"Title\": news.contents[1].text,\n",
    "    \"Body\": news.contents[2].text\n",
    "}\n",
    "\n",
    "pprint(news_dict)"
   ]
  },
  {
   "cell_type": "markdown",
   "metadata": {},
   "source": [
    "# Visit the url for JPL Featured Space Image [here](https://www.jpl.nasa.gov/spaceimages/?search=&category=Mars).\n",
    "\n",
    "* Use requests to get the site and find the image url for the current Featured Mars Image and assign the url string to a variable called `featured_image_url`.\n",
    "\n",
    "* Make sure to find the image url to the full size `.jpg` image.\n",
    "\n",
    "* Make sure to save a complete url string for this image.\n",
    "\n",
    "\n",
    "Example:\n",
    "featured_image_url = 'https://www.jpl.nasa.gov/spaceimages/images/largesize/PIA16225_hires.jpg'"
   ]
  },
  {
   "cell_type": "code",
   "execution_count": 6,
   "metadata": {},
   "outputs": [
    {
     "name": "stdout",
     "output_type": "stream",
     "text": [
      "'https://www.jpl.nasa.gov/spaceimages/images/largesize/PIA23707_hires.jpg'\n"
     ]
    }
   ],
   "source": [
    "# Grab latest JPL Mars Image\n",
    "soup = BeautifulSoup(html_image, \"html.parser\")\n",
    "mars_image = soup.find_all(\"a\", class_=\"fancybox\")\n",
    "\n",
    "featured_image_url = urllib.parse.urljoin(\"https://www.jpl.nasa.gov\", mars_image[1][\"data-fancybox-href\"])\n",
    "pprint(featured_image_url)"
   ]
  },
  {
   "cell_type": "markdown",
   "metadata": {},
   "source": [
    "# Visit the Mars Weather twitter account [here](https://twitter.com/marswxreport?lang=en) and scrape the latest Mars weather tweet from the page. \n",
    "\n",
    "Save the tweet text for the weather report as a variable called `mars_weather`."
   ]
  },
  {
   "cell_type": "code",
   "execution_count": 7,
   "metadata": {},
   "outputs": [
    {
     "name": "stdout",
     "output_type": "stream",
     "text": [
      "('InSight sol 447 (2020-02-28) low -92.6ºC (-134.6ºF) high -11.1ºC (12.0ºF)\\n'\n",
      " 'winds from the SSW at 5.8 m/s (13.1 mph) gusting to 20.2 m/s (45.2 mph)\\n'\n",
      " 'pressure at 6.30 hPa')\n"
     ]
    }
   ],
   "source": [
    "soup = BeautifulSoup(html_weather, \"html.parser\")\n",
    "mars_weather = soup.find(\"div\", class_=\"css-901oao r-jwli3a r-1qd0xha r-a023e6 r-16dba41 r-ad9z0x r-bcqeeo r-bnwqim r-qvutc0\")\n",
    "pprint(mars_weather.text)"
   ]
  },
  {
   "cell_type": "markdown",
   "metadata": {},
   "source": [
    "# Visit the Mars Facts webpage [here](http://space-facts.com/mars/) and use Pandas to scrape the table containing facts about the planet including Diameter, Mass, etc.\n",
    "\n",
    "* Use Pandas to convert the data to a HTML table string."
   ]
  },
  {
   "cell_type": "code",
   "execution_count": 8,
   "metadata": {},
   "outputs": [
    {
     "name": "stdout",
     "output_type": "stream",
     "text": [
      "('<table class=\"tablepress tablepress-id-p-mars\" '\n",
      " 'id=\"tablepress-p-mars\"><tbody><tr class=\"row-1 odd\"><td '\n",
      " 'class=\"column-1\"><strong>Equatorial Diameter:</strong></td><td '\n",
      " 'class=\"column-2\">6,792 km<br/></td></tr><tr class=\"row-2 even\"><td '\n",
      " 'class=\"column-1\"><strong>Polar Diameter:</strong></td><td '\n",
      " 'class=\"column-2\">6,752 km<br/></td></tr><tr class=\"row-3 odd\"><td '\n",
      " 'class=\"column-1\"><strong>Mass:</strong></td><td class=\"column-2\">6.39 × '\n",
      " '10^23 kg<br/> (0.11 Earths)</td></tr><tr class=\"row-4 even\"><td '\n",
      " 'class=\"column-1\"><strong>Moons:</strong></td><td class=\"column-2\">2 (<a '\n",
      " 'href=\"https://space-facts.com/moons/phobos/\">Phobos</a> &amp; <a '\n",
      " 'href=\"https://space-facts.com/moons/deimos/\">Deimos</a>)</td></tr><tr '\n",
      " 'class=\"row-5 odd\"><td class=\"column-1\"><strong>Orbit '\n",
      " 'Distance:</strong></td><td class=\"column-2\">227,943,824 km<br/> (1.38 '\n",
      " 'AU)</td></tr><tr class=\"row-6 even\"><td class=\"column-1\"><strong>Orbit '\n",
      " 'Period:</strong></td><td class=\"column-2\">687 days (1.9 '\n",
      " 'years)<br/></td></tr><tr class=\"row-7 odd\"><td '\n",
      " 'class=\"column-1\"><strong>Surface Temperature: </strong></td><td '\n",
      " 'class=\"column-2\">-87 to -5 °C</td></tr><tr class=\"row-8 even\"><td '\n",
      " 'class=\"column-1\"><strong>First Record:</strong></td><td class=\"column-2\">2nd '\n",
      " 'millennium BC</td></tr><tr class=\"row-9 odd\"><td '\n",
      " 'class=\"column-1\"><strong>Recorded By:</strong></td><td '\n",
      " 'class=\"column-2\">Egyptian astronomers</td></tr></tbody></table>')\n"
     ]
    }
   ],
   "source": [
    "request = requests.get(FACTS_URL)\n",
    "mars_facts_soup = BeautifulSoup(request.text, \"html.parser\")\n",
    "\n",
    "facts = f'{mars_facts_soup.find(\"table\", class_=\"tablepress tablepress-id-p-mars\")}'\n",
    "pprint(facts)"
   ]
  },
  {
   "cell_type": "markdown",
   "metadata": {},
   "source": [
    "# Visit the USGS Astrogeology site [here](https://astrogeology.usgs.gov/search/results?q=hemisphere+enhanced&k1=target&v1=Mars) to obtain high resolution images for each of Mar's hemispheres.\n",
    "\n",
    "* You will need to click each of the links to the hemispheres in order to find the image url to the full resolution image.\n",
    "\n",
    "* Save both the image url string for the full resolution hemisphere image, and the Hemisphere title containing the hemisphere name. Use a Python dictionary to store the data using the keys `img_url` and `title`.\n",
    "\n",
    "* Append the dictionary with the image url string and the hemisphere title to a list. This list will contain one dictionary for each hemisphere."
   ]
  },
  {
   "cell_type": "code",
   "execution_count": 9,
   "metadata": {},
   "outputs": [
    {
     "name": "stdout",
     "output_type": "stream",
     "text": [
      "[{'img_url': 'http://astropedia.astrogeology.usgs.gov/download/Mars/Viking/cerberus_enhanced.tif/full.jpg',\n",
      "  'title': 'Cerberus Hemisphere Enhanced'},\n",
      " {'img_url': 'http://astropedia.astrogeology.usgs.gov/download/Mars/Viking/schiaparelli_enhanced.tif/full.jpg',\n",
      "  'title': 'Schiaparelli Hemisphere Enhanced'},\n",
      " {'img_url': 'http://astropedia.astrogeology.usgs.gov/download/Mars/Viking/syrtis_major_enhanced.tif/full.jpg',\n",
      "  'title': 'Syrtis Major Hemisphere Enhanced'},\n",
      " {'img_url': 'http://astropedia.astrogeology.usgs.gov/download/Mars/Viking/valles_marineris_enhanced.tif/full.jpg',\n",
      "  'title': 'Valles Marineris Hemisphere Enhanced'}]\n"
     ]
    }
   ],
   "source": [
    "driver = webdriver.Firefox()\n",
    "driver.get(HEMISP_URL)\n",
    "driver.implicitly_wait(10)\n",
    "\n",
    "\n",
    "hem_list = []\n",
    "\n",
    "links = driver.find_elements_by_class_name(\"thumb\")\n",
    "\n",
    "for l in range(len(links)):\n",
    "    driver.find_elements_by_class_name(\"thumb\")[l].click()\n",
    "\n",
    "    title = driver.find_element_by_class_name(\"title\")\n",
    "    image_url = driver.find_element_by_link_text(\"Sample\")\n",
    "\n",
    "    hem_list.append({\n",
    "        \n",
    "        \"title\": title.text, \n",
    "        \"img_url\": image_url.get_attribute(\"href\")\n",
    "    })\n",
    "    driver.back()\n",
    "\n",
    "pprint(hem_list)\n",
    "driver.close()"
   ]
  },
  {
   "cell_type": "code",
   "execution_count": null,
   "metadata": {},
   "outputs": [],
   "source": []
  }
 ],
 "metadata": {
  "kernelspec": {
   "display_name": "webscraper",
   "language": "python",
   "name": "webscraper"
  },
  "language_info": {
   "codemirror_mode": {
    "name": "ipython",
    "version": 3
   },
   "file_extension": ".py",
   "mimetype": "text/x-python",
   "name": "python",
   "nbconvert_exporter": "python",
   "pygments_lexer": "ipython3",
   "version": "3.7.6"
  }
 },
 "nbformat": 4,
 "nbformat_minor": 4
}
